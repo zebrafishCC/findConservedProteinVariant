{
 "cells": [
  {
   "cell_type": "markdown",
   "metadata": {},
   "source": [
    "###Screening variants match to further analysis\n",
    "\n",
    "Only select those variants with C to T change or G to A change, since our base-editing tools can only change C to T. As the percentage of methylated nucleotides are low in coding region, we first look into those variant that have GC dinucleotide in the mutated point."
   ]
  },
  {
   "cell_type": "code",
   "execution_count": null,
   "metadata": {},
   "outputs": [],
   "source": []
  },
  {
   "cell_type": "code",
   "execution_count": 1,
   "metadata": {},
   "outputs": [
    {
     "name": "stdout",
     "output_type": "stream",
     "text": [
      "/home/chengchen/data/base-editing\r\n"
     ]
    }
   ],
   "source": [
    "!pwd"
   ]
  },
  {
   "cell_type": "markdown",
   "metadata": {},
   "source": [
    "screen clinvar data from human for C to T transition variant"
   ]
  },
  {
   "cell_type": "code",
   "execution_count": 3,
   "metadata": {},
   "outputs": [
    {
     "name": "stdout",
     "output_type": "stream",
     "text": [
      "clinvar_20181202.vcf  findingVariants.ipynb\t human_orthos_2018.12.06.txt\r\n",
      "data_analysis.sh      GC change information.odt  methylation\r\n"
     ]
    }
   ],
   "source": [
    "!ls"
   ]
  },
  {
   "cell_type": "markdown",
   "metadata": {},
   "source": [
    "total number of C to T variant change in clinvar dataset"
   ]
  },
  {
   "cell_type": "code",
   "execution_count": 4,
   "metadata": {},
   "outputs": [
    {
     "name": "stdout",
     "output_type": "stream",
     "text": [
      "89225\r\n"
     ]
    }
   ],
   "source": [
    "!awk '$4==\"C\" && $5==\"T\" {print $0}' clinvar_20181202.vcf | wc -l"
   ]
  },
  {
   "cell_type": "markdown",
   "metadata": {},
   "source": [
    "total number of G to A variant change in clinvar dataset"
   ]
  },
  {
   "cell_type": "code",
   "execution_count": 5,
   "metadata": {},
   "outputs": [
    {
     "name": "stdout",
     "output_type": "stream",
     "text": [
      "88903\r\n"
     ]
    }
   ],
   "source": [
    "!awk '$4==\"G\" && $5==\"A\" {print $0}' clinvar_20181202.vcf | wc -l"
   ]
  },
  {
   "cell_type": "markdown",
   "metadata": {},
   "source": [
    "select variants and build a new dataset that only store the C (G) to T (A) variants."
   ]
  },
  {
   "cell_type": "code",
   "execution_count": 6,
   "metadata": {},
   "outputs": [],
   "source": [
    "!awk '$4==\"C\" && $5==\"T\" {print $0}' clinvar_20181202.vcf > humanCtoTvariant.vcf"
   ]
  },
  {
   "cell_type": "code",
   "execution_count": 7,
   "metadata": {},
   "outputs": [],
   "source": [
    "!awk '$4==\"G\" && $5==\"A\" {print $0}' clinvar_20181202.vcf >> humanCtoTvariant.vcf"
   ]
  },
  {
   "cell_type": "code",
   "execution_count": 9,
   "metadata": {},
   "outputs": [
    {
     "name": "stdout",
     "output_type": "stream",
     "text": [
      "1\t1014122\t542074\tC\tT\t.\t.\tALLELEID=514926;CLNDISDB=MedGen:C4015293,OMIM:616126,Orphanet:ORPHA319563;CLNDN=Immunodeficiency_38_with_basal_ganglia_calcification;CLNHGVS=NC_000001.11:g.1014122C>T;CLNREVSTAT=criteria_provided,_single_submitter;CLNSIG=Uncertain_significance;CLNVC=single_nucleotide_variant;CLNVCSO=SO:0001483;GENEINFO=ISG15:9636;MC=SO:0001583|missense_variant;ORIGIN=1;RS=150861311\r\n",
      "1\t1014143\t183381\tC\tT\t.\t.\tALLELEID=181485;CLNDISDB=MedGen:C4015293,OMIM:616126,Orphanet:ORPHA319563;CLNDN=Immunodeficiency_38_with_basal_ganglia_calcification;CLNHGVS=NC_000001.11:g.1014143C>T;CLNREVSTAT=no_assertion_criteria_provided;CLNSIG=Pathogenic;CLNVC=single_nucleotide_variant;CLNVCSO=SO:0001483;CLNVI=OMIM_Allelic_Variant:147571.0003;GENEINFO=ISG15:9636;MC=SO:0001587|nonsense;ORIGIN=1;RS=786201005\r\n",
      "1\t1014179\t542075\tC\tT\t.\t.\tALLELEID=514896;CLNDISDB=MedGen:C4015293,OMIM:616126,Orphanet:ORPHA319563;CLNDN=Immunodeficiency_38_with_basal_ganglia_calcification;CLNHGVS=NC_000001.11:g.1014179C>T;CLNREVSTAT=criteria_provided,_single_submitter;CLNSIG=Uncertain_significance;CLNVC=single_nucleotide_variant;CLNVCSO=SO:0001483;GENEINFO=ISG15:9636;MC=SO:0001583|missense_variant;ORIGIN=1\r\n"
     ]
    }
   ],
   "source": [
    "!head -3 humanCtoTvariant.vcf"
   ]
  },
  {
   "cell_type": "code",
   "execution_count": 10,
   "metadata": {},
   "outputs": [
    {
     "name": "stdout",
     "output_type": "stream",
     "text": [
      "92491\r\n"
     ]
    }
   ],
   "source": [
    "!grep -E 'missense|nonsense' humanCtoTvariant.vcf | wc -l"
   ]
  },
  {
   "cell_type": "markdown",
   "metadata": {},
   "source": [
    "save missense and nonsense variant in humanCtoTvariant.vcf to a new file humanCtoTvariant_coding.vcf"
   ]
  },
  {
   "cell_type": "code",
   "execution_count": 11,
   "metadata": {},
   "outputs": [],
   "source": [
    "!grep -E 'missense|nonsense' humanCtoTvariant.vcf > humanCtoTvariant_coding.vcf"
   ]
  },
  {
   "cell_type": "code",
   "execution_count": 12,
   "metadata": {},
   "outputs": [
    {
     "name": "stdout",
     "output_type": "stream",
     "text": [
      "1\t1014122\t542074\tC\tT\t.\t.\tALLELEID=514926;CLNDISDB=MedGen:C4015293,OMIM:616126,Orphanet:ORPHA319563;CLNDN=Immunodeficiency_38_with_basal_ganglia_calcification;CLNHGVS=NC_000001.11:g.1014122C>T;CLNREVSTAT=criteria_provided,_single_submitter;CLNSIG=Uncertain_significance;CLNVC=single_nucleotide_variant;CLNVCSO=SO:0001483;GENEINFO=ISG15:9636;MC=SO:0001583|missense_variant;ORIGIN=1;RS=150861311\r\n",
      "1\t1014143\t183381\tC\tT\t.\t.\tALLELEID=181485;CLNDISDB=MedGen:C4015293,OMIM:616126,Orphanet:ORPHA319563;CLNDN=Immunodeficiency_38_with_basal_ganglia_calcification;CLNHGVS=NC_000001.11:g.1014143C>T;CLNREVSTAT=no_assertion_criteria_provided;CLNSIG=Pathogenic;CLNVC=single_nucleotide_variant;CLNVCSO=SO:0001483;CLNVI=OMIM_Allelic_Variant:147571.0003;GENEINFO=ISG15:9636;MC=SO:0001587|nonsense;ORIGIN=1;RS=786201005\r\n",
      "1\t1014179\t542075\tC\tT\t.\t.\tALLELEID=514896;CLNDISDB=MedGen:C4015293,OMIM:616126,Orphanet:ORPHA319563;CLNDN=Immunodeficiency_38_with_basal_ganglia_calcification;CLNHGVS=NC_000001.11:g.1014179C>T;CLNREVSTAT=criteria_provided,_single_submitter;CLNSIG=Uncertain_significance;CLNVC=single_nucleotide_variant;CLNVCSO=SO:0001483;GENEINFO=ISG15:9636;MC=SO:0001583|missense_variant;ORIGIN=1\r\n"
     ]
    }
   ],
   "source": [
    "!head -3 humanCtoTvariant_coding.vcf"
   ]
  },
  {
   "cell_type": "markdown",
   "metadata": {},
   "source": [
    "Get human fish homologue genes, human_orthos_2018.12.06.txt was download from ZFIN database"
   ]
  },
  {
   "cell_type": "code",
   "execution_count": 20,
   "metadata": {},
   "outputs": [
    {
     "name": "stdout",
     "output_type": "stream",
     "text": [
      "Date: 2018.12.06\r\n",
      "ZFIN ID\tZFIN Symbol\tZFIN Name\tHuman Symbol\tHuman Name\tOMIM ID\tGene ID\tHGNC ID\tEvidence\tPub ID\t\r\n",
      "ZDB-GENE-000112-47\tppardb\tperoxisome proliferator-activated receptor delta b\tPPARD\tperoxisome proliferator activated receptor delta\t600409\t5467\t9235\tAA\tZDB-PUB-060313-16\r\n",
      "ZDB-GENE-000112-47\tppardb\tperoxisome proliferator-activated receptor delta b\tPPARD\tperoxisome proliferator activated receptor delta\t600409\t5467\t9235\tAA\tZDB-PUB-070210-39\r\n"
     ]
    }
   ],
   "source": [
    "!head -4 human_orthos_2018.12.06.txt"
   ]
  },
  {
   "cell_type": "code",
   "execution_count": 13,
   "metadata": {},
   "outputs": [
    {
     "name": "stdout",
     "output_type": "stream",
     "text": [
      "13187\r\n"
     ]
    }
   ],
   "source": [
    "!awk -F \"\\t\" '{print $4}' human_orthos_2018.12.06.txt | sed '1,2d' | sort | uniq| wc -l"
   ]
  },
  {
   "cell_type": "code",
   "execution_count": 14,
   "metadata": {},
   "outputs": [
    {
     "name": "stdout",
     "output_type": "stream",
     "text": [
      "A1CF\r\n",
      "AAAS\r\n",
      "AACS\r\n",
      "AADAC\r\n",
      "AADACL4\r\n",
      "AADAT\r\n",
      "AAGAB\r\n",
      "AAK1\r\n",
      "AAMDC\r\n",
      "AAMP\r\n",
      "uniq: write error: Broken pipe\r\n"
     ]
    }
   ],
   "source": [
    "!awk -F \"\\t\" '{print $4}' human_orthos_2018.12.06.txt | sed '1,2d' | sort | uniq| head"
   ]
  },
  {
   "cell_type": "code",
   "execution_count": 21,
   "metadata": {},
   "outputs": [],
   "source": [
    "!awk -F \"\\t\" '{print $4}' human_orthos_2018.12.06.txt | sed '1,2d' | sort | uniq > human_genes_with_fish_homologues.txt\n"
   ]
  },
  {
   "cell_type": "markdown",
   "metadata": {},
   "source": [
    "Make grep pattern more specific with print"
   ]
  },
  {
   "cell_type": "code",
   "execution_count": 22,
   "metadata": {},
   "outputs": [
    {
     "name": "stdout",
     "output_type": "stream",
     "text": [
      "GENEINFO=A1CF:\r\n",
      "GENEINFO=AAAS:\r\n",
      "GENEINFO=AACS:\r\n",
      "GENEINFO=AADAC:\r\n",
      "GENEINFO=AADACL4:\r\n",
      "GENEINFO=AADAT:\r\n",
      "GENEINFO=AAGAB:\r\n",
      "GENEINFO=AAK1:\r\n",
      "GENEINFO=AAMDC:\r\n",
      "GENEINFO=AAMP:\r\n",
      "awk: write failure (Broken pipe)\r\n",
      "awk: close failed on file /dev/stdout (Broken pipe)\r\n",
      "cat: write error: Broken pipe\r\n"
     ]
    }
   ],
   "source": [
    "!cat human_genes_with_fish_homologues.txt|awk '{print \"GENEINFO=\"$0\":\"}' | head"
   ]
  },
  {
   "cell_type": "code",
   "execution_count": 23,
   "metadata": {},
   "outputs": [],
   "source": [
    "!cat human_genes_with_fish_homologues.txt|awk '{print \"GENEINFO=\"$0\":\"}' | xargs -I {}  grep {} humanCtoTvariant_coding.vcf > humanCtoTvariant_coding_homologues.vcf"
   ]
  },
  {
   "cell_type": "code",
   "execution_count": 25,
   "metadata": {},
   "outputs": [
    {
     "name": "stdout",
     "output_type": "stream",
     "text": [
      "12\t53307533\t309718\tC\tT\t.\t.\tAF_ESP=0.0074;AF_EXAC=0.00235;AF_TGP=0.0124;ALLELEID=317931;CLNDISDB=MedGen:C0271742,OMIM:231550,Orphanet:ORPHA869,SNOMED_CT:45414006;CLNDN=Glucocorticoid_deficiency_with_achalasia;CLNHGVS=NC_000012.12:g.53307533C>T;CLNREVSTAT=criteria_provided,_single_submitter;CLNSIG=Likely_benign;CLNVC=single_nucleotide_variant;CLNVCSO=SO:0001483;CLNVI=Illumina_Clinical_Services_Laboratory,Illumina:797541;GENEINFO=AAAS:8086;MC=SO:0001583|missense_variant;ORIGIN=1;RS=34451260\r\n",
      "12\t53308082\t309726\tC\tT\t.\t.\tAF_ESP=0.0005;AF_EXAC=0.00063;AF_TGP=0.0002;ALLELEID=325873;CLNDISDB=MedGen:C0271742,OMIM:231550,Orphanet:ORPHA869,SNOMED_CT:45414006;CLNDN=Glucocorticoid_deficiency_with_achalasia;CLNHGVS=NC_000012.12:g.53308082C>T;CLNREVSTAT=criteria_provided,_single_submitter;CLNSIG=Uncertain_significance;CLNVC=single_nucleotide_variant;CLNVCSO=SO:0001483;CLNVI=Illumina_Clinical_Services_Laboratory,Illumina:112077;GENEINFO=AAAS:8086;MC=SO:0001583|missense_variant;ORIGIN=1;RS=112579822\r\n",
      "12\t53309207\t429876\tC\tT\t.\t.\tALLELEID=421944;CLNDISDB=MedGen:CN517202;CLNDN=not_provided;CLNHGVS=NC_000012.12:g.53309207C>T;CLNREVSTAT=criteria_provided,_single_submitter;CLNSIG=Pathogenic;CLNVC=single_nucleotide_variant;CLNVCSO=SO:0001483;GENEINFO=AAAS:8086;MC=SO:0001587|nonsense;ORIGIN=1;RS=766542823\r\n",
      "12\t53320565\t5048\tC\tT\t.\t.\tALLELEID=20087;CLNDISDB=MedGen:C0271742,OMIM:231550,Orphanet:ORPHA869,SNOMED_CT:45414006;CLNDN=Glucocorticoid_deficiency_with_achalasia;CLNHGVS=NC_000012.12:g.53320565C>T;CLNREVSTAT=no_assertion_criteria_provided;CLNSIG=Pathogenic;CLNVC=single_nucleotide_variant;CLNVCSO=SO:0001483;CLNVI=OMIM_Allelic_Variant:605378.0010;GENEINFO=AAAS:8086;MC=SO:0001587|nonsense;ORIGIN=1;RS=754637718\r\n"
     ]
    }
   ],
   "source": [
    "!head -4 humanCtoTvariant_coding_homologues.vcf"
   ]
  },
  {
   "cell_type": "code",
   "execution_count": 26,
   "metadata": {},
   "outputs": [
    {
     "name": "stdout",
     "output_type": "stream",
     "text": [
      "5\t61544156\t155772\tC\tT\t.\t.\tALLELEID=165524;CLNDISDB=MeSH:D030342,MedGen:C0950123|MedGen:C1863616,OMIM:603671|MedGen:CN517202;CLNDN=Inborn_genetic_diseases|Acromelic_frontonasal_dysostosis|not_provided;CLNHGVS=NC_000005.10:g.61544156C>T;CLNREVSTAT=criteria_provided,_multiple_submitters,_no_conflicts;CLNSIG=Pathogenic/Likely_pathogenic;CLNVC=single_nucleotide_variant;CLNVCSO=SO:0001483;CLNVI=OMIM_Allelic_Variant:615951.0001|UniProtKB_(protein):Q9HCJ5#VAR_071802;GENEINFO=ZSWIM6:57688;MC=SO:0001583|missense_variant;ORIGIN=33;RS=587777695\r\n",
      "5\t61530120\t585031\tG\tA\t.\t.\tALLELEID=576117;CLNDISDB=MedGen:C1863616,OMIM:603671;CLNDN=Acromelic_frontonasal_dysostosis;CLNHGVS=NC_000005.10:g.61530120G>A;CLNREVSTAT=no_assertion_provided;CLNSIG=not_provided;CLNVC=single_nucleotide_variant;CLNVCSO=SO:0001483;GENEINFO=ZSWIM6:57688;MC=SO:0001583|missense_variant;ORIGIN=8;RS=140760439\r\n"
     ]
    }
   ],
   "source": [
    "!tail -2 humanCtoTvariant_coding_homologues.vcf"
   ]
  },
  {
   "cell_type": "code",
   "execution_count": 27,
   "metadata": {},
   "outputs": [
    {
     "name": "stdout",
     "output_type": "stream",
     "text": [
      "86046\r\n"
     ]
    }
   ],
   "source": [
    "cat humanCtoTvariant_coding_homologues.vcf | wc -l"
   ]
  },
  {
   "cell_type": "markdown",
   "metadata": {},
   "source": [
    "Count the total number of genes in original variant file before sending to Ensembl Variant effect predictor"
   ]
  },
  {
   "cell_type": "code",
   "execution_count": 98,
   "metadata": {},
   "outputs": [
    {
     "name": "stdout",
     "output_type": "stream",
     "text": [
      "3887\r\n"
     ]
    }
   ],
   "source": [
    "!cat humanCtoTvariant_coding_homologues.vcf | cut -f 8 | awk 'match($0,/GENEINFO=[A-Z0-9]*/) {print substr($0,RSTART,RLENGTH)}'| awk -F \"=\" '{print $2}'|sort -u | wc -l"
   ]
  },
  {
   "cell_type": "markdown",
   "metadata": {},
   "source": [
    "File humanCtoTvariant_coding_homologues.vcf is sent to Ensembl Variant Effect Predictor (VEP), choose Ensembl/GENCODE basic transcripts, do not find colacated variant and make no predictions. The file obtained from VEP anntotion is named as human_variant_VEP_annotation.txt. This file include non coding gene annotation,so it needs to be filtered. \n",
    "\n",
    "Note: Since *GC* C to T transition won't cause stop_gained mutation, so only choose missense_variant for further analysis"
   ]
  },
  {
   "cell_type": "code",
   "execution_count": 33,
   "metadata": {},
   "outputs": [
    {
     "name": "stdout",
     "output_type": "stream",
     "text": [
      "280948\r\n"
     ]
    }
   ],
   "source": [
    "!grep -E 'missense_variant' human_variant_VEP_annotation.txt | wc -l"
   ]
  },
  {
   "cell_type": "markdown",
   "metadata": {},
   "source": [
    "One variant may have multiple annotation due to multiple transcript annotation in Variant Effect Predictor"
   ]
  },
  {
   "cell_type": "code",
   "execution_count": 35,
   "metadata": {
    "scrolled": true
   },
   "outputs": [
    {
     "name": "stdout",
     "output_type": "stream",
     "text": [
      "75928\r\n"
     ]
    }
   ],
   "source": [
    "!grep -E 'missense_variant' human_variant_VEP_annotation.txt | awk '$1!=prev {print $0} {prev=$1}' | wc -l"
   ]
  },
  {
   "cell_type": "code",
   "execution_count": 37,
   "metadata": {},
   "outputs": [
    {
     "name": "stdout",
     "output_type": "stream",
     "text": [
      "8466\t16:70268356-70268356\tT\tmissense_variant\tMODERATE\tAARS\tENSG00000090861\tTranscript\tENST00000261772\tprotein_coding\t8/21\t-\t-\t-\t1130\t986\t329\tR/H\tcGc/cAc\t-\t-\t-1\t-\tHGNC\tHGNC:20\t1\tP1\t-\t-\t-\t-\r",
      "\r\n",
      "320348\t16:70269756-70269756\tT\tmissense_variant\tMODERATE\tAARS\tENSG00000090861\tTranscript\tENST00000261772\tprotein_coding\t7/21\t-\t-\t-\t968\t824\t275\tG/D\tgGt/gAt\t-\t-\t-1\t-\tHGNC\tHGNC:20\t1\tP1\t-\t-\t-\t-\r",
      "\r\n",
      "143047\t6:44300612-44300612\tT\tmissense_variant\tMODERATE\tAARS2\tENSG00000124608\tTranscript\tENST00000244571\tprotein_coding\t22/22\t-\t-\t-\t2896\t2893\t965\tG/R\tGga/Aga\t-\t-\t-1\t-\tHGNC\tHGNC:21022\t1\tP1\t-\t-\t-\t-\r",
      "\r\n",
      "awk: write failure (Broken pipe)\r\n",
      "awk: close failed on file /dev/stdout (Broken pipe)\r\n",
      "grep: write error: Broken pipe\r\n"
     ]
    }
   ],
   "source": [
    "!grep -E 'missense_variant' human_variant_VEP_annotation.txt | awk '$1!=prev {print $0} {prev=$1}' | head -3"
   ]
  },
  {
   "cell_type": "markdown",
   "metadata": {},
   "source": [
    "Only select the genes that can complete C to T transition. As a result, only several amino acid mutation will be allowed in the final output. These mutations include \"A/T\",\"C/Y\",\"S/N\",\"R/H\",\"G/D\"."
   ]
  },
  {
   "cell_type": "code",
   "execution_count": 99,
   "metadata": {},
   "outputs": [
    {
     "name": "stdout",
     "output_type": "stream",
     "text": [
      "16:70268356-70268356\tAARS\tENSG00000090861\tENST00000261772\t986\t329\tR/H\tcGc/cAc\n",
      "16:70269756-70269756\tAARS\tENSG00000090861\tENST00000261772\t824\t275\tG/D\tgGt/gAt\n",
      "2:214982225-214982225\tABCA12\tENSG00000144452\tENST00000272895\t4541\t1514\tR/H\tcGc/cAc\n",
      "1:94000866-94000866\tABCA4\tENSG00000198691\tENST00000370225\t6449\t2150\tC/Y\ttGt/tAt\n",
      "1:94000878-94000878\tABCA4\tENSG00000198691\tENST00000370225\t6437\t2146\tG/D\tgGc/gAc\n",
      "1:94001068-94001068\tABCA4\tENSG00000198691\tENST00000370225\t6320\t2107\tR/H\tcGc/cAc\n",
      "1:94010821-94010821\tABCA4\tENSG00000198691\tENST00000370225\t5693\t1898\tR/H\tcGc/cAc\n",
      "1:94019691-94019691\tABCA4\tENSG00000198691\tENST00000370225\t5087\t1696\tS/N\taGc/aAc\n",
      "1:94021349-94021349\tABCA4\tENSG00000198691\tENST00000370225\t4909\t1637\tA/T\tGcc/Acc\n",
      "1:94029515-94029515\tABCA4\tENSG00000198691\tENST00000370225\t4469\t1490\tC/Y\ttGc/tAc\n",
      "grep: write error: Broken pipe\n",
      "cut: write error: Broken pipe\n"
     ]
    }
   ],
   "source": [
    "!grep -E 'missense_variant' human_variant_VEP_annotation.txt | awk '$1!=prev {print $0} {prev=$1}' | cut -f 2,6,7,9,16,17,18,19 |grep \"A/T\\|C/Y\\|S/N\\|R/H\\|G/D\" | head"
   ]
  },
  {
   "cell_type": "code",
   "execution_count": 100,
   "metadata": {},
   "outputs": [],
   "source": [
    "!grep -E 'missense_variant' human_variant_VEP_annotation.txt | awk '$1!=prev {print $0} {prev=$1}' | cut -f 2,6,7,9,16,17,18,19 |grep \"A/T\\|C/Y\\|S/N\\|R/H\\|G/D\"  > human_variant_VEP_extract_info.txt"
   ]
  },
  {
   "cell_type": "code",
   "execution_count": 101,
   "metadata": {},
   "outputs": [
    {
     "name": "stdout",
     "output_type": "stream",
     "text": [
      "2401\r\n"
     ]
    }
   ],
   "source": [
    "!cut -f 2 human_variant_VEP_extract_info.txt | sort -u | wc -l"
   ]
  },
  {
   "cell_type": "code",
   "execution_count": 109,
   "metadata": {},
   "outputs": [],
   "source": [
    "!cut -f 2 human_variant_VEP_extract_info.txt | sort -u > human_candidate_genes.txt"
   ]
  },
  {
   "cell_type": "markdown",
   "metadata": {},
   "source": [
    "Whether all 2041 gene in human_fish_orthologues.txt?"
   ]
  },
  {
   "cell_type": "markdown",
   "metadata": {},
   "source": [
    "Find human fish orthologues with two methods"
   ]
  },
  {
   "cell_type": "code",
   "execution_count": 71,
   "metadata": {},
   "outputs": [],
   "source": [
    "!cut -f 2,3,4,5 human_orthos_2018.12.06.txt |sed '1,2d'| sort | uniq > zebrafish_human_orthologues.txt"
   ]
  },
  {
   "cell_type": "code",
   "execution_count": 72,
   "metadata": {
    "scrolled": false
   },
   "outputs": [
    {
     "name": "stdout",
     "output_type": "stream",
     "text": [
      "a1cf\tapobec1 complementation factor\tA1CF\tAPOBEC1 complementation factor\r\n",
      "aaas\tachalasia, adrenocortical insufficiency, alacrimia\tAAAS\taladin WD repeat nucleoporin\r\n",
      "aacs\tacetoacetyl-CoA synthetase\tAACS\tacetoacetyl-CoA synthetase\r\n",
      "aadac\tarylacetamide deacetylase\tAADAC\tarylacetamide deacetylase\r\n",
      "aadacl4\tarylacetamide deacetylase-like 4\tAADACL4\tarylacetamide deacetylase like 4\r\n",
      "aadat\taminoadipate aminotransferase\tAADAT\taminoadipate aminotransferase\r\n",
      "aagab\talpha and gamma adaptin binding protein\tAAGAB\talpha and gamma adaptin binding protein\r\n",
      "aak1a\tAP2 associated kinase 1a\tAAK1\tAP2 associated kinase 1\r\n",
      "aak1b\tAP2 associated kinase 1b\tAAK1\tAP2 associated kinase 1\r\n",
      "aamdc\tadipogenesis associated, Mth938 domain containing\tAAMDC\tadipogenesis associated Mth938 domain containing\r\n"
     ]
    }
   ],
   "source": [
    "!head zebrafish_human_orthologues.txt"
   ]
  },
  {
   "cell_type": "markdown",
   "metadata": {},
   "source": [
    "This dataset *zebrafish_human_orthologues.txt* have one human gene correspond to multiple zebrafish genes because the duplication of zebrafish genomes."
   ]
  },
  {
   "cell_type": "code",
   "execution_count": 73,
   "metadata": {},
   "outputs": [
    {
     "name": "stdout",
     "output_type": "stream",
     "text": [
      "16376\r\n"
     ]
    }
   ],
   "source": [
    "cat zebrafish_human_orthologues.txt | wc -l"
   ]
  },
  {
   "cell_type": "code",
   "execution_count": 102,
   "metadata": {},
   "outputs": [],
   "source": [
    "!python find_genes_for_human_fish.py human_variant_VEP_extract_info.txt zebrafish_human_orthologues.txt zebrafish_human_common_set.txt"
   ]
  },
  {
   "cell_type": "markdown",
   "metadata": {},
   "source": [
    "only 2350 genes for further analysis. Compared to 2401, 51 genes are removed due to unknown reasons, waiting to figure out"
   ]
  },
  {
   "cell_type": "code",
   "execution_count": 103,
   "metadata": {},
   "outputs": [
    {
     "name": "stdout",
     "output_type": "stream",
     "text": [
      "2350\r\n"
     ]
    }
   ],
   "source": [
    "!cat zebrafish_human_common_set.txt|wc -l"
   ]
  },
  {
   "cell_type": "code",
   "execution_count": 104,
   "metadata": {},
   "outputs": [
    {
     "name": "stdout",
     "output_type": "stream",
     "text": [
      "aanat1\tarylalkylamine N-acetyltransferase 1\tAANAT\taralkylamine N-acetyltransferase\r\n",
      "aars2\talanyl-tRNA synthetase 2, mitochondrial (putative)\tAARS2\talanyl-tRNA synthetase 2, mitochondrial\r\n",
      "aars\talanyl-tRNA synthetase\tAARS\talanyl-tRNA synthetase\r\n",
      "abat\t4-aminobutyrate aminotransferase\tABAT\t4-aminobutyrate aminotransferase\r\n",
      "abca12\tATP-binding cassette, sub-family A (ABC1), member 12\tABCA12\tATP binding cassette subfamily A member 12\r\n",
      "abca1a\tATP-binding cassette, sub-family A (ABC1), member 1A\tABCA1\tATP binding cassette subfamily A member 1\r\n",
      "abca3a\tATP-binding cassette, sub-family A (ABC1), member 3a\tABCA3\tATP binding cassette subfamily A member 3\r\n",
      "abca4a\tATP-binding cassette, sub-family A (ABC1), member 4a\tABCA4\tATP binding cassette subfamily A member 4\r\n",
      "abcb11a\tATP-binding cassette, sub-family B (MDR/TAP), member 11a\tABCB11\tATP binding cassette subfamily B member 11\r\n",
      "abcb4\tATP-binding cassette, sub-family B (MDR/TAP), member 4\tABCB1\tATP binding cassette subfamily B member 1\r\n"
     ]
    }
   ],
   "source": [
    "!head zebrafish_human_common_set.txt"
   ]
  },
  {
   "cell_type": "code",
   "execution_count": 107,
   "metadata": {},
   "outputs": [],
   "source": [
    "!cut -f 1 zebrafish_human_common_set.txt |sort > zebrafish_selected_genes.txt"
   ]
  },
  {
   "cell_type": "code",
   "execution_count": 108,
   "metadata": {},
   "outputs": [],
   "source": [
    "!cut -f 3 zebrafish_human_common_set.txt |sort > human_selected_genes.txt"
   ]
  },
  {
   "cell_type": "code",
   "execution_count": 111,
   "metadata": {},
   "outputs": [
    {
     "name": "stdout",
     "output_type": "stream",
     "text": [
      "ABCB4\r\n",
      "AC055811.2\r\n",
      "AC073283.3\r\n",
      "ADGRL1\r\n",
      "AP002884.3\r\n",
      "ARSH\r\n",
      "C2\r\n",
      "C3\r\n",
      "CEL\r\n",
      "CLCNKB\r\n",
      "CNGB3\r\n",
      "DNAI1\r\n",
      "DPYD\r\n",
      "DSG2\r\n",
      "F13A1\r\n",
      "FUCA1\r\n",
      "G6PC\r\n",
      "GJA1\r\n",
      "GJB1\r\n",
      "GJB2\r\n",
      "GJB3\r\n",
      "GJB4\r\n",
      "GJC2\r\n",
      "GPR82\r\n",
      "HARS\r\n",
      "HCCS\r\n",
      "IL21R\r\n",
      "ITGA2\r\n",
      "KCNJ1\r\n",
      "KIAA0586\r\n",
      "KRT18\r\n",
      "KRTAP10-10\r\n",
      "LIM2\r\n",
      "LRTOMT\r\n",
      "MATR3\r\n",
      "MUT\r\n",
      "NKX2-1\r\n",
      "NKX2-5\r\n",
      "OGT\r\n",
      "PIEZO2\r\n",
      "PRCD\r\n",
      "SFTPC\r\n",
      "SLC26A3\r\n",
      "SLC6A19\r\n",
      "SLC9A3\r\n",
      "SP110\r\n",
      "TAPBP\r\n",
      "TPMT\r\n",
      "TTN\r\n",
      "TXNRD2\r\n",
      "WISP3\r\n"
     ]
    }
   ],
   "source": [
    "!comm -23 human_candidate_genes.txt human_selected_genes.txt"
   ]
  },
  {
   "cell_type": "code",
   "execution_count": 112,
   "metadata": {},
   "outputs": [],
   "source": [
    "!grep WISP3 zebrafish_human_orthologues.txt"
   ]
  },
  {
   "cell_type": "code",
   "execution_count": 113,
   "metadata": {},
   "outputs": [],
   "source": [
    "! grep WISP3 human_genes_with_fish_homologues.txt"
   ]
  },
  {
   "cell_type": "code",
   "execution_count": 114,
   "metadata": {},
   "outputs": [],
   "source": [
    "!grep WISP3 human_orthos_2018.12.06.txt"
   ]
  },
  {
   "cell_type": "markdown",
   "metadata": {},
   "source": [
    "It seems like that some genes like WISP3 was added to 2041 gene list by Ensembl VEP annotation"
   ]
  },
  {
   "cell_type": "code",
   "execution_count": 116,
   "metadata": {},
   "outputs": [
    {
     "name": "stdout",
     "output_type": "stream",
     "text": [
      "ZDB-GENE-030113-2\tttn.2\ttitin, tandem duplicate 2\tTTN\ttitin\t188840\t7273\t12403\tAA\tZDB-PUB-040609-1\r\n",
      "ZDB-GENE-030113-2\tttn.2\ttitin, tandem duplicate 2\tTTN\ttitin\t188840\t7273\t12403\tAA\tZDB-PUB-050823-6\r\n",
      "ZDB-GENE-030113-2\tttn.2\ttitin, tandem duplicate 2\tTTN\ttitin\t188840\t7273\t12403\tAA\tZDB-PUB-070330-28\r\n"
     ]
    }
   ],
   "source": [
    "!grep TTN human_orthos_2018.12.06.txt | head -3"
   ]
  },
  {
   "cell_type": "code",
   "execution_count": 117,
   "metadata": {},
   "outputs": [
    {
     "name": "stdout",
     "output_type": "stream",
     "text": [
      "CTTN\r\n",
      "CTTNBP2\r\n",
      "CTTNBP2NL\r\n",
      "RTTN\r\n",
      "TTN\r\n"
     ]
    }
   ],
   "source": [
    "!grep TTN human_genes_with_fish_homologues.txt"
   ]
  },
  {
   "cell_type": "code",
   "execution_count": 118,
   "metadata": {
    "scrolled": true
   },
   "outputs": [
    {
     "name": "stdout",
     "output_type": "stream",
     "text": [
      "cttnbp2\tcortactin binding protein 2\tCTTNBP2\tcortactin binding protein 2\r\n",
      "cttnbp2nla\tCTTNBP2 N-terminal like a\tCTTNBP2NL\tCTTNBP2 N-terminal like\r\n",
      "cttnbp2nlb\tCTTNBP2 N-terminal like b\tCTTNBP2NL\tCTTNBP2 N-terminal like\r\n",
      "cttn\tcortactin\tCTTN\tcortactin\r\n",
      "rttn\trotatin\tRTTN\trotatin\r\n",
      "ttn.1\ttitin, tandem duplicate 1\tTTN\ttitin\r\n",
      "ttn.2\ttitin, tandem duplicate 2\tTTN\ttitin\r\n"
     ]
    }
   ],
   "source": [
    "!grep TTN zebrafish_human_orthologues.txt"
   ]
  },
  {
   "cell_type": "markdown",
   "metadata": {},
   "source": [
    "Some gene are excluded from 2014 gene list because their weird zebrafish gene name"
   ]
  },
  {
   "cell_type": "markdown",
   "metadata": {},
   "source": [
    "12/25/2018 some data didn't save correctly"
   ]
  },
  {
   "cell_type": "markdown",
   "metadata": {},
   "source": [
    "workflow: final_candidates.py selected genes dataset were sent to ensembl and download the gene_transcript_id and protein sequence datafile, the use find_conserved_transcript.py to get the conserved transcript. Then use the python find_chromo_pos.py script to get the final output for further analysis."
   ]
  },
  {
   "cell_type": "markdown",
   "metadata": {},
   "source": []
  },
  {
   "cell_type": "markdown",
   "metadata": {},
   "source": [
    "12/26/2018 analyze the positive strand"
   ]
  },
  {
   "cell_type": "code",
   "execution_count": 1,
   "metadata": {},
   "outputs": [
    {
     "name": "stdout",
     "output_type": "stream",
     "text": [
      "9:104822514-104822514\tABCA1\tENSG00000165029\tENST00000374736\t2810\t937\tA/V\tgCg/gTg\n",
      "2:215019657-215019657\tABCA12\tENSG00000144452\tENST00000272895\t1427\t476\tA/V\tgCg/gTg\n",
      "1:93997943-93997943\tABCA4\tENSG00000198691\tENST00000370225\t6647\t2216\tA/V\tgCg/gTg\n",
      "1:94043413-94043413\tABCA4\tENSG00000198691\tENST00000370225\t3113\t1038\tA/V\tgCc/gTc\n",
      "1:94079341-94079341\tABCA4\tENSG00000198691\tENST00000370225\t1220\t407\tA/V\tgCa/gTa\n",
      "1:94111561-94111561\tABCA4\tENSG00000198691\tENST00000370225\t179\t60\tA/V\tgCg/gTg\n",
      "2:168944621-168944621\tABCB11\tENSG00000073734\tENST00000263817\t2594\t865\tA/V\tgCt/gTt\n",
      "12:21908099-21908099\tABCC9\tENSG00000069431\tENST00000261200\t1433\t478\tA/V\tgCa/gTa\n",
      "12:120737939-120737939\tACADS\tENSG00000122971\tENST00000242592\t575\t192\tA/V\tgCt/gTt\n",
      "12:51920826-51920826\tACVRL1\tENSG00000139567\tENST00000388922\t1445\t482\tA/V\tgCg/gTg\n",
      "grep: write error: Broken pipe\n",
      "cut: write error: Broken pipe\n"
     ]
    }
   ],
   "source": [
    "!grep -E 'missense_variant' human_variant_VEP_annotation.txt | awk '$1!=prev {print $0} {prev=$1}' | cut -f 2,6,7,9,16,17,18,19 |grep \"A/V\" | head"
   ]
  },
  {
   "cell_type": "code",
   "execution_count": 2,
   "metadata": {},
   "outputs": [
    {
     "name": "stdout",
     "output_type": "stream",
     "text": [
      "4537\r\n"
     ]
    }
   ],
   "source": [
    "!grep -E 'missense_variant' human_variant_VEP_annotation.txt | awk '$1!=prev {print $0} {prev=$1}' | cut -f 2,6,7,9,16,17,18,19 |grep \"A/V\" | wc -l"
   ]
  },
  {
   "cell_type": "code",
   "execution_count": 3,
   "metadata": {},
   "outputs": [],
   "source": [
    "!grep -E 'missense_variant' human_variant_VEP_annotation.txt | awk '$1!=prev {print $0} {prev=$1}' | cut -f 2,6,7,9,16,17,18,19 |grep \"A/V\" > human_variant_VEP_extract_info_positive.txt"
   ]
  },
  {
   "cell_type": "code",
   "execution_count": 4,
   "metadata": {},
   "outputs": [],
   "source": [
    "!python find_genes_for_human_fish.py human_variant_VEP_extract_info_positive.txt zebrafish_human_orthologues.txt zebrafish_human_common_set_positive.txt"
   ]
  },
  {
   "cell_type": "code",
   "execution_count": 5,
   "metadata": {},
   "outputs": [
    {
     "name": "stdout",
     "output_type": "stream",
     "text": [
      "aars2\talanyl-tRNA synthetase 2, mitochondrial (putative)\tAARS2\talanyl-tRNA synthetase 2, mitochondrial\r\n",
      "aars\talanyl-tRNA synthetase\tAARS\talanyl-tRNA synthetase\r\n",
      "abat\t4-aminobutyrate aminotransferase\tABAT\t4-aminobutyrate aminotransferase\r\n",
      "abca12\tATP-binding cassette, sub-family A (ABC1), member 12\tABCA12\tATP binding cassette subfamily A member 12\r\n",
      "abca1a\tATP-binding cassette, sub-family A (ABC1), member 1A\tABCA1\tATP binding cassette subfamily A member 1\r\n",
      "abca4a\tATP-binding cassette, sub-family A (ABC1), member 4a\tABCA4\tATP binding cassette subfamily A member 4\r\n",
      "abcb11a\tATP-binding cassette, sub-family B (MDR/TAP), member 11a\tABCB11\tATP binding cassette subfamily B member 11\r\n",
      "abcb7\tATP-binding cassette, sub-family B (MDR/TAP), member 7\tABCB7\tATP binding cassette subfamily B member 7\r\n",
      "abcc6a\tATP-binding cassette, sub-family C (CFTR/MRP), member 6a\tABCC6\tATP binding cassette subfamily C member 6\r\n",
      "abcc8\tATP-binding cassette, sub-family C (CFTR/MRP), member 8\tABCC8\tATP binding cassette subfamily C member 8\r\n"
     ]
    }
   ],
   "source": [
    "!head zebrafish_human_common_set_positive.txt"
   ]
  },
  {
   "cell_type": "code",
   "execution_count": 6,
   "metadata": {},
   "outputs": [
    {
     "name": "stdout",
     "output_type": "stream",
     "text": [
      "1447\r\n"
     ]
    }
   ],
   "source": [
    "!cat zebrafish_human_common_set_positive.txt |wc -l"
   ]
  },
  {
   "cell_type": "code",
   "execution_count": 8,
   "metadata": {},
   "outputs": [],
   "source": [
    "!cut -f 1 zebrafish_human_common_set.txt |sort > zebrafish_selected_genes_positive.txt\n",
    "!cut -f 3 zebrafish_human_common_set.txt |sort > human_selected_genes_positive.txt"
   ]
  },
  {
   "cell_type": "code",
   "execution_count": 10,
   "metadata": {},
   "outputs": [
    {
     "name": "stdout",
     "output_type": "stream",
     "text": [
      "2350\n",
      "['aanat1', 'aars', 'aars2', 'abat', 'abca12', 'abca1a', 'abca3a', 'abca4a', 'abcb11a', 'abcb4']\n",
      "2350\n",
      "['AANAT', 'AARS2', 'AARS', 'ABAT', 'ABCA12', 'ABCA1', 'ABCA3', 'ABCA4', 'ABCB11', 'ABCB1']\n",
      "2248\n",
      "2350\n"
     ]
    }
   ],
   "source": [
    "#final_candidates.py\n",
    "f1 = open(\"zebrafish_selected_genes_positive.txt\",\"r\")\n",
    "f2 = open(\"zebrafish_human_common_set.txt\",\"r\")\n",
    "f3 = open(\"zebrafish_id_conversion_positive.txt\",\"r\")\n",
    "f4 = open(\"human_id_conversion_positive.txt\",\"r\")\n",
    "\n",
    "fishgenes = []\n",
    "for line in f1.readlines():\n",
    "\tfishgene = line.strip()\n",
    "\tfishgenes.append(fishgene)\n",
    "print len(fishgenes)\n",
    "print fishgenes[:10]\n",
    "\n",
    "humangenes = []\n",
    "genesPair = []\n",
    "for line in f2.readlines():\n",
    "\tfishgene = line.strip().split(\"\\t\")[0]\n",
    "\thumangene = line.strip().split(\"\\t\")[2]\n",
    "\tif fishgene in fishgenes:\n",
    "\t\thumangenes.append(humangene)\n",
    "\t\tgenesPair.append(fishgene+humangene)\n",
    "\t\t#print fishgene+\"\\t\"+humangene\n",
    "print len(humangenes)\n",
    "print humangenes[:10]\n",
    "\n",
    "fishTranscript = []\n",
    "for line in f3.readlines():\n",
    "\tthisline = line.strip().split(\"\\t\")\n",
    "\tgene = thisline[2]\n",
    "\ttranscript = thisline[1]\n",
    "\tif gene in fishgenes:\n",
    "\t\tfishgenes.remove(gene)\n",
    "\t\tfishTranscript.append(gene+\"\\t\"+transcript)\n",
    "\n",
    "print len(fishTranscript)\n",
    "\n",
    "humanTranscript = []\n",
    "for line in f4.readlines():\n",
    "        thisline = line.strip().split(\"\\t\")\n",
    "        gene = thisline[2]\n",
    "        transcript = thisline[1]\n",
    "        if gene in humangenes:\n",
    "                humangenes.remove(gene)\n",
    "                humanTranscript.append(gene+\"\\t\"+transcript)\n",
    "\n",
    "\n",
    "print len(humanTranscript)\n",
    "\n",
    "f5 = open(\"fish_human_final_candidate_positive.txt\",\"w\")\n",
    "for fishGeneTranscript in fishTranscript:\n",
    "\tfishgene = fishGeneTranscript.split(\"\\t\")[0]\n",
    "\tfor humanGeneTranscript in humanTranscript:\n",
    "\t\thumangene = humanGeneTranscript.split(\"\\t\")[0]\n",
    "\t\tfishHuman = fishgene+humangene\n",
    "\t\tif fishHuman in genesPair:\n",
    "\t\t\tf5.write(fishGeneTranscript+\"\\t\"+humanGeneTranscript+\"\\n\")\n",
    "\n",
    "f1.close()\n",
    "f2.close()\n",
    "f3.close()\n",
    "f4.close()\n",
    "f5.close()"
   ]
  },
  {
   "cell_type": "code",
   "execution_count": 11,
   "metadata": {},
   "outputs": [
    {
     "name": "stdout",
     "output_type": "stream",
     "text": [
      "gria3a\tENSDART00000137120\tGRIA3\tENST00000616590\r\n",
      "adamts13\tENSDART00000146364\tADAMTS13\tENST00000628339\r\n",
      "gnal\tENSDART00000140924\tGNAL\tENST00000334049\r\n"
     ]
    }
   ],
   "source": [
    "!head -3 fish_human_final_candidate_positive.txt"
   ]
  },
  {
   "cell_type": "code",
   "execution_count": 12,
   "metadata": {},
   "outputs": [
    {
     "name": "stdout",
     "output_type": "stream",
     "text": [
      "2248\r\n"
     ]
    }
   ],
   "source": [
    "!cat fish_human_final_candidate_positive.txt | wc -l"
   ]
  },
  {
   "cell_type": "code",
   "execution_count": 14,
   "metadata": {},
   "outputs": [],
   "source": [
    "!cut -f 2 fish_human_final_candidate_positive.txt > zebrafish_selected_transcripts_positive.txt\n",
    "!cut -f 4 fish_human_final_candidate_positive.txt >  human_selected_transcripts_positive.txt"
   ]
  },
  {
   "cell_type": "code",
   "execution_count": 17,
   "metadata": {},
   "outputs": [],
   "source": [
    "!python find_conserved_transcript_positive.py"
   ]
  },
  {
   "cell_type": "code",
   "execution_count": 18,
   "metadata": {},
   "outputs": [
    {
     "name": "stdout",
     "output_type": "stream",
     "text": [
      "OTC\t209\totc\t207\tA\tA\r\n",
      "OTC\t233\totc\t231\tA\tA\r\n",
      "MYO15A\t1772\tmyo15aa\t2382\tA\tA\r\n",
      "MYO15A\t2248\tmyo15aa\t2857\tA\tA\r\n",
      "DLD\t61\tdldh\t60\tA\tA\r\n",
      "DLD\t241\tdldh\t239\tA\tA\r\n",
      "ABCC6\t594\tabcc6a\t562\tA\tA\r\n",
      "ABCC6\t187\tabcc6a\t158\tA\tA\r\n",
      "TSC2\t862\ttsc2\t694\tA\tA\r\n",
      "TSC2\t289\ttsc2\t122\tA\tA\r\n"
     ]
    }
   ],
   "source": [
    "!head human_zebrafish_conserved_variant_positive.txt"
   ]
  },
  {
   "cell_type": "code",
   "execution_count": 19,
   "metadata": {},
   "outputs": [
    {
     "name": "stdout",
     "output_type": "stream",
     "text": [
      "658\r\n"
     ]
    }
   ],
   "source": [
    "!cat human_zebrafish_conserved_variant_positive.txt|wc -l"
   ]
  },
  {
   "cell_type": "code",
   "execution_count": null,
   "metadata": {},
   "outputs": [],
   "source": [
    "!python find_chromo_pos_positive.py"
   ]
  },
  {
   "cell_type": "code",
   "execution_count": 20,
   "metadata": {},
   "outputs": [
    {
     "name": "stdout",
     "output_type": "stream",
     "text": [
      "MYO15A\tENST00000205890\tmyo15aa\tENSDART00000149546\t2382\tA/V\tAGAGGGATTGCTGAAATTTGGcCGCCACCGTTGAggCCTGAT\r\n",
      "DLD\tENST00000205402\tdldh\tENSDART00000006709\t60\tA/V\tGTACCTTAAACCCAAGCTGAGcTGCTTTGATAGCggCAACAT\r\n",
      "DLD\tENST00000205402\tdldh\tENSDART00000006709\t239\tA/V\tCATGGCCAAGAAATTCCACTGcTGTAACTTTggCACCCAACC\r\n",
      "ABCC6\tENST00000205557\tabcc6a\tENSDART00000189619\t158\tA/V\tACTCTTCCTCAGCTGTTTTGcAGACCAggCACCCTTAggCAA\r\n",
      "TSC2\tENST00000219476\ttsc2\tENSDART00000158948\t122\tA/V\tTAGGGTGTACTCCGAGGACGcCGCTCTCCTCCGCggTGCTGT\r\n",
      "TSC2\tENST00000219476\ttsc2\tENSDART00000158948\t264\tA/V\tCACGCTGGTCTCCTACAGAGcTCAggCCATCCAGCCggCCAA\r\n",
      "TSC2\tENST00000219476\ttsc2\tENSDART00000158948\t454\tA/V\tTTTCCTGCTGCTGATGAGGGcTGATTCTCTACATCGTCTCgg\r\n",
      "TSC2\tENST00000219476\ttsc2\tENSDART00000158948\t597\tA/V\tCCTCACTGACGTTCAGCTCGcTGTggTTCCTGTTCTCACggC\r\n",
      "TSC2\tENST00000219476\ttsc2\tENSDART00000158948\t726\tA/V\tTCTGGCTCATCATGTGATCGcCATGTggTTCATCCGCTGCCG\r\n",
      "TSC2\tENST00000219476\ttsc2\tENSDART00000158948\t1041\tA/V\tCATGCTGACGCAGGGCTGGGcCGAGATCTTCATCCGCAggCC\r\n"
     ]
    }
   ],
   "source": [
    "!head all_variants_positive.txt"
   ]
  },
  {
   "cell_type": "code",
   "execution_count": 21,
   "metadata": {},
   "outputs": [
    {
     "name": "stdout",
     "output_type": "stream",
     "text": [
      "369\r\n"
     ]
    }
   ],
   "source": [
    "!cat all_variants_positive.txt | wc -l"
   ]
  },
  {
   "cell_type": "code",
   "execution_count": null,
   "metadata": {},
   "outputs": [],
   "source": []
  }
 ],
 "metadata": {
  "kernelspec": {
   "display_name": "Python 2",
   "language": "python",
   "name": "python2"
  },
  "language_info": {
   "codemirror_mode": {
    "name": "ipython",
    "version": 2
   },
   "file_extension": ".py",
   "mimetype": "text/x-python",
   "name": "python",
   "nbconvert_exporter": "python",
   "pygments_lexer": "ipython2",
   "version": "2.7.15"
  }
 },
 "nbformat": 4,
 "nbformat_minor": 2
}
